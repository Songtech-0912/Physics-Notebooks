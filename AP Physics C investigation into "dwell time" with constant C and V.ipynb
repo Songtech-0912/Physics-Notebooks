{
 "cells": [
  {
   "cell_type": "markdown",
   "id": "206ac848",
   "metadata": {},
   "source": [
    "# Investigation into $t(R)$ with $C, V = \\mathrm{const.}$"
   ]
  },
  {
   "cell_type": "markdown",
   "id": "d7ce7ff0",
   "metadata": {},
   "source": [
    "This investigation investigates how \"dwell time\" varies while resistance and capacitance is held constant."
   ]
  },
  {
   "cell_type": "markdown",
   "id": "e361f069",
   "metadata": {},
   "source": [
    "First, an analytical analysis into the dwell time is found:"
   ]
  },
  {
   "cell_type": "code",
   "execution_count": 21,
   "id": "25669d6c",
   "metadata": {},
   "outputs": [],
   "source": [
    "import sympy as sp\n",
    "import pandas as pd\n",
    "import numpy as np"
   ]
  },
  {
   "cell_type": "markdown",
   "id": "ec122602",
   "metadata": {},
   "source": [
    "$$\n",
    "\\frac{dq}{dt} = \\frac{V}{R} = \\frac{2 kq}{R}\n",
    "$$"
   ]
  },
  {
   "cell_type": "code",
   "execution_count": 7,
   "id": "7eee1ca1",
   "metadata": {},
   "outputs": [],
   "source": [
    "k, R, t = sp.symbols(\"k R t\")"
   ]
  },
  {
   "cell_type": "code",
   "execution_count": 6,
   "id": "2cd791aa",
   "metadata": {},
   "outputs": [],
   "source": [
    "q = sp.Function(\"q\")(t)"
   ]
  },
  {
   "cell_type": "code",
   "execution_count": 30,
   "id": "6e15f5e3",
   "metadata": {},
   "outputs": [
    {
     "data": {
      "text/latex": [
       "$\\displaystyle \\frac{d}{d t} q{\\left(t \\right)} = \\frac{2 k q{\\left(t \\right)}}{R^{2}}$"
      ],
      "text/plain": [
       "Eq(Derivative(q(t), t), 2*k*q(t)/R**2)"
      ]
     },
     "execution_count": 30,
     "metadata": {},
     "output_type": "execute_result"
    }
   ],
   "source": [
    "eq = sp.Eq(q.diff(t), (2 * k * q) / (R ** 2))\n",
    "eq"
   ]
  },
  {
   "cell_type": "code",
   "execution_count": 12,
   "id": "47d4bd2e",
   "metadata": {},
   "outputs": [
    {
     "data": {
      "text/latex": [
       "$\\displaystyle q{\\left(t \\right)} = C_{1} e^{\\frac{2 k t}{R^{2}}}$"
      ],
      "text/plain": [
       "Eq(q(t), C1*exp(2*k*t/R**2))"
      ]
     },
     "execution_count": 12,
     "metadata": {},
     "output_type": "execute_result"
    }
   ],
   "source": [
    "eq_sol = sp.dsolve(eq)\n",
    "eq_sol"
   ]
  },
  {
   "cell_type": "code",
   "execution_count": 16,
   "id": "92703470",
   "metadata": {},
   "outputs": [],
   "source": [
    "q_var = sp.Symbol(\"q\")"
   ]
  },
  {
   "cell_type": "code",
   "execution_count": 20,
   "id": "406f245a",
   "metadata": {},
   "outputs": [
    {
     "data": {
      "text/latex": [
       "$\\displaystyle q = C_{1} e^{\\frac{2 k t}{R^{2}}}$"
      ],
      "text/plain": [
       "Eq(q, C1*exp(2*k*t/R**2))"
      ]
     },
     "execution_count": 20,
     "metadata": {},
     "output_type": "execute_result"
    }
   ],
   "source": [
    "solve_eq = sp.Eq(q_var, eq_sol.rhs)\n",
    "solve_eq"
   ]
  },
  {
   "cell_type": "code",
   "execution_count": 32,
   "id": "a511df26",
   "metadata": {},
   "outputs": [
    {
     "data": {
      "text/latex": [
       "$\\displaystyle \\frac{R^{2} \\log{\\left(- \\sqrt{\\frac{q}{C_{1}}} \\right)}}{k}$"
      ],
      "text/plain": [
       "R**2*log(-sqrt(q/C1))/k"
      ]
     },
     "execution_count": 32,
     "metadata": {},
     "output_type": "execute_result"
    }
   ],
   "source": [
    "# solve for t\n",
    "t_sol = sp.solve(solve_eq, t)[0]\n",
    "t_sol"
   ]
  },
  {
   "cell_type": "code",
   "execution_count": 35,
   "id": "ed41137a",
   "metadata": {},
   "outputs": [
    {
     "ename": "AttributeError",
     "evalue": "'Mul' object has no attribute 'sub'",
     "output_type": "error",
     "traceback": [
      "\u001b[0;31m---------------------------------------------------------------------------\u001b[0m",
      "\u001b[0;31mAttributeError\u001b[0m                            Traceback (most recent call last)",
      "Cell \u001b[0;32mIn [35], line 1\u001b[0m\n\u001b[0;32m----> 1\u001b[0m sp\u001b[38;5;241m.\u001b[39mplot(t_sol\u001b[38;5;241m.\u001b[39msub(q, \u001b[38;5;241m1\u001b[39m)\u001b[38;5;241m.\u001b[39msub(k, \u001b[38;5;241m1\u001b[39m))\n",
      "\u001b[0;31mAttributeError\u001b[0m: 'Mul' object has no attribute 'sub'"
     ]
    }
   ],
   "source": [
    "sp.plot()"
   ]
  },
  {
   "cell_type": "markdown",
   "id": "7ac0a6ea",
   "metadata": {},
   "source": [
    "Then, experimental data is collected with varying resistance and constant capacitance and voltage. Following each test, the capacitor was discharged fully. The experimental data collected was as follows:"
   ]
  },
  {
   "cell_type": "code",
   "execution_count": 40,
   "id": "913cba30",
   "metadata": {},
   "outputs": [],
   "source": [
    "data = [\n",
    "    [0, 38],\n",
    "    [2.9, 38],\n",
    "    [5, 47],\n",
    "    [10, 34],\n",
    "    [20, 25]\n",
    "    #[35]\n",
    "]"
   ]
  },
  {
   "cell_type": "code",
   "execution_count": 42,
   "id": "723b0402",
   "metadata": {},
   "outputs": [
    {
     "data": {
      "text/html": [
       "<div>\n",
       "<style scoped>\n",
       "    .dataframe tbody tr th:only-of-type {\n",
       "        vertical-align: middle;\n",
       "    }\n",
       "\n",
       "    .dataframe tbody tr th {\n",
       "        vertical-align: top;\n",
       "    }\n",
       "\n",
       "    .dataframe thead th {\n",
       "        text-align: right;\n",
       "    }\n",
       "</style>\n",
       "<table border=\"1\" class=\"dataframe\">\n",
       "  <thead>\n",
       "    <tr style=\"text-align: right;\">\n",
       "      <th></th>\n",
       "      <th>R</th>\n",
       "      <th>t</th>\n",
       "    </tr>\n",
       "  </thead>\n",
       "  <tbody>\n",
       "    <tr>\n",
       "      <th>0</th>\n",
       "      <td>0.0</td>\n",
       "      <td>38</td>\n",
       "    </tr>\n",
       "    <tr>\n",
       "      <th>1</th>\n",
       "      <td>2.9</td>\n",
       "      <td>38</td>\n",
       "    </tr>\n",
       "    <tr>\n",
       "      <th>2</th>\n",
       "      <td>5.0</td>\n",
       "      <td>47</td>\n",
       "    </tr>\n",
       "    <tr>\n",
       "      <th>3</th>\n",
       "      <td>10.0</td>\n",
       "      <td>34</td>\n",
       "    </tr>\n",
       "    <tr>\n",
       "      <th>4</th>\n",
       "      <td>20.0</td>\n",
       "      <td>25</td>\n",
       "    </tr>\n",
       "  </tbody>\n",
       "</table>\n",
       "</div>"
      ],
      "text/plain": [
       "      R   t\n",
       "0   0.0  38\n",
       "1   2.9  38\n",
       "2   5.0  47\n",
       "3  10.0  34\n",
       "4  20.0  25"
      ]
     },
     "execution_count": 42,
     "metadata": {},
     "output_type": "execute_result"
    }
   ],
   "source": [
    "df = pd.DataFrame(data, columns=[\"R\", \"t\"])\n",
    "df"
   ]
  },
  {
   "cell_type": "code",
   "execution_count": null,
   "id": "c1245c85",
   "metadata": {},
   "outputs": [],
   "source": []
  }
 ],
 "metadata": {
  "kernelspec": {
   "display_name": "Python 3 (ipykernel)",
   "language": "python",
   "name": "python3"
  },
  "language_info": {
   "codemirror_mode": {
    "name": "ipython",
    "version": 3
   },
   "file_extension": ".py",
   "mimetype": "text/x-python",
   "name": "python",
   "nbconvert_exporter": "python",
   "pygments_lexer": "ipython3",
   "version": "3.8.10"
  }
 },
 "nbformat": 4,
 "nbformat_minor": 5
}
